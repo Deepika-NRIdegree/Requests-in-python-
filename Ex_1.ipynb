{
  "nbformat": 4,
  "nbformat_minor": 0,
  "metadata": {
    "colab": {
      "provenance": [],
      "authorship_tag": "ABX9TyOCkpk6okto3oP5dqhCpWQZ",
      "include_colab_link": true
    },
    "kernelspec": {
      "name": "python3",
      "display_name": "Python 3"
    },
    "language_info": {
      "name": "python"
    }
  },
  "cells": [
    {
      "cell_type": "markdown",
      "metadata": {
        "id": "view-in-github",
        "colab_type": "text"
      },
      "source": [
        "<a href=\"https://colab.research.google.com/github/Deepika-NRIdegree/Requests-in-python-/blob/main/Ex_1.ipynb\" target=\"_parent\"><img src=\"https://colab.research.google.com/assets/colab-badge.svg\" alt=\"Open In Colab\"/></a>"
      ]
    },
    {
      "cell_type": "code",
      "execution_count": null,
      "metadata": {
        "id": "sbk6Jd4ZU3hl",
        "outputId": "a1f3b53c-37bd-4fa2-d8c7-0ebb80c53d74",
        "colab": {
          "base_uri": "https://localhost:8080/"
        }
      },
      "outputs": [
        {
          "output_type": "stream",
          "name": "stdout",
          "text": [
            "\n",
            "\n",
            "\n",
            "p Pardeeprdeep Par\n",
            "deep Pardeep Pard Pardeep Pardeep \n",
            "rdeep Pardeep Pardeep Pardeep Pardeep Par\n",
            "rdeep Pardeep Pardeep Pardeep Pardeep Parde\n",
            "rdeep Pardeep Pardeep Pardeep Pardeep Pardeep\n",
            "deep Pardeep Pardeep Pardeep Pardeep Pardeep \n",
            "eep Pardeep Pardeep Pardeep Pardeep Pardeep P\n",
            "ep Pardeep Pardeep Pardeep Pardeep Pardeep Pa\n",
            "p Pardeep Pardeep Pardeep Pardeep Pardeep Par\n",
            " Pardeep Pardeep Pardeep Pardeep Pardeep Pard\n",
            "ardeep Pardeep Pardeep Pardeep Pardeep Pard\n",
            "deep Pardeep Pardeep Pardeep Pardeep Pard\n",
            "eep Pardeep Pardeep Pardeep Pardeep Parde\n",
            " Pardeep Pardeep Pardeep Pardeep Pard\n",
            "ardeep Pardeep Pardeep Pardeep Pard\n",
            "deep Pardeep Pardeep Pardeep Pard\n",
            "p Pardeep Pardeep Pardeep Par\n",
            "ardeep Pardeep Pardeep Pa\n",
            "eep Pardeep Pardeep P\n",
            "Pardeep Pardeep\n",
            "eep Parde\n",
            "Par\n",
            "r\n",
            "\n",
            "\n",
            "\n",
            "\n",
            "Pardeep narwal!!\n"
          ]
        }
      ],
      "source": [
        "print('\\n'.join\n",
        "      ([''.join\n",
        "       ([('Pardeep narwal'[(x-y)%8 ]\n",
        "         if((x*0.05)**2+(y*0.1)**2-1)\n",
        "         **3-(x*0.05)**2*(y*0.1)\n",
        "         **3<=0 else'')\n",
        "     for x in range(-30,30)])\n",
        "     for y in range(15,-15,-1)]))\n",
        "print(\"Pardeep narwal!!\")"
      ]
    },
    {
      "cell_type": "code",
      "source": [],
      "metadata": {
        "id": "0LmOoCzwVF3W"
      },
      "execution_count": null,
      "outputs": []
    }
  ]
}